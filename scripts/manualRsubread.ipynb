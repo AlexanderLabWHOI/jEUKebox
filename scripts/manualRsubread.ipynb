{
 "cells": [
  {
   "cell_type": "code",
   "execution_count": 4,
   "metadata": {},
   "outputs": [],
   "source": [
    "pacman::p_load(BiocManager,Biostrings,Rsubread)"
   ]
  },
  {
   "cell_type": "code",
   "execution_count": 5,
   "metadata": {},
   "outputs": [
    {
     "data": {
      "text/plain": [
       "               _                           \n",
       "platform       x86_64-conda-linux-gnu      \n",
       "arch           x86_64                      \n",
       "os             linux-gnu                   \n",
       "system         x86_64, linux-gnu           \n",
       "status                                     \n",
       "major          4                           \n",
       "minor          1.0                         \n",
       "year           2021                        \n",
       "month          05                          \n",
       "day            18                          \n",
       "svn rev        80317                       \n",
       "language       R                           \n",
       "version.string R version 4.1.0 (2021-05-18)\n",
       "nickname       Camp Pontanezen             "
      ]
     },
     "metadata": {},
     "output_type": "display_data"
    }
   ],
   "source": [
    "R.version"
   ]
  },
  {
   "cell_type": "code",
   "execution_count": 6,
   "metadata": {},
   "outputs": [],
   "source": [
    "assemblies_dir = \"../../mmetsp_metatranscriptomes/mock_assemblies\"\n",
    "rawreads_dir = \"../../mmetsp_metatranscriptomes/mock_raw_reads\"\n",
    "\n",
    "instructions_file = read.csv(\"../../mmetsp_metatranscriptomes/communities.csv\")"
   ]
  },
  {
   "cell_type": "code",
   "execution_count": 5,
   "metadata": {
    "collapsed": true
   },
   "outputs": [
    {
     "ename": "ERROR",
     "evalue": "Error in read.fasta(file = file.path(assemblies_dir[1], list.files(assemblies_dir[1]))): could not find function \"read.fasta\"\n",
     "output_type": "error",
     "traceback": [
      "Error in read.fasta(file = file.path(assemblies_dir[1], list.files(assemblies_dir[1]))): could not find function \"read.fasta\"\nTraceback:\n"
     ]
    }
   ],
   "source": [
    "fasta_output = read.fasta(file = file.path(assemblies_dir[1],list.files(assemblies_dir[1])))"
   ]
  },
  {
   "cell_type": "code",
   "execution_count": 22,
   "metadata": {},
   "outputs": [
    {
     "name": "stdout",
     "output_type": "stream",
     "text": [
      "Warning: 14 duplicate sequences were found in the input. Please check the summary table.\n",
      "Warning: 2 duplicate sequences were found in the input. Please check the summary table.\n",
      "Warning: 14 duplicate sequences were found in the input. Please check the summary table.\n",
      "Warning: 16 duplicate sequences were found in the input. Please check the summary table.\n"
     ]
    }
   ],
   "source": [
    "lengths_assemblies = c(85125,128713,161206,105210,183562)\n",
    "counter = 1\n",
    "for (assembly_dir in list.files(assemblies_dir)) {\n",
    "    fasta_file = file.path(assemblies_dir,assembly_dir,list.files(file.path(assemblies_dir,assembly_dir)))\n",
    "    assembly_stub = strsplit(assembly_dir,\"\\\\.\")[1]\n",
    "    output_name = file.path(rawreads_dir,assembly_stub)\n",
    "    dir.create(output_name, showWarnings = FALSE, recursive=TRUE)\n",
    "    scanned_info = Rsubread::scanFasta(\n",
    "\n",
    "            # the file containing the transcript database\n",
    "            fasta_file,\n",
    "\n",
    "            # manipulating transcript names\n",
    "            simplify.transcript.names = FALSE,\n",
    "\n",
    "            # miscellaneous options\n",
    "            quiet = FALSE)\n",
    "    \n",
    "    nsequences <- nrow(scanned_info) - sum(scanned_info$Duplicate)\n",
    "\n",
    "    # Assign a random TPM value to each non-duplicated transcript sequence\n",
    "    expressionlevels <- rep(0, nrow(scanned_info))\n",
    "    expressionlevels[!scanned_info$Duplicate] <- rexp(nsequences) # exponential distribution\n",
    "    transcript_info = Rsubread::simReads(\n",
    "\n",
    "        # the transcript database and the wanted abundances\n",
    "        fasta_file,\n",
    "        #expression.levels,\n",
    "        expressionlevels,\n",
    "\n",
    "        # the name of the output\n",
    "        file.path(output_name,paste0(assembly_stub)),\n",
    "\n",
    "        # options on the output\n",
    "        library.size = 1000000,\n",
    "        read.length = 75,\n",
    "        # logical indicating if the true mapping location of reads or\n",
    "        # read-pairs should be encoded into the read names\n",
    "        truth.in.read.names = TRUE,\n",
    "\n",
    "        # simulating sequencing errors\n",
    "        simulate.sequencing.error = TRUE,\n",
    "        quality.reference = NULL,\n",
    "\n",
    "        # parameters for generating paired-end reads.\n",
    "        paired.end = TRUE,\n",
    "        fragment.length.min = 100,\n",
    "        fragment.length.max = 500,\n",
    "        fragment.length.mean = 180,\n",
    "        fragment.length.sd = 40,\n",
    "\n",
    "        # manipulating transcript names\n",
    "        simplify.transcript.names = FALSE)\n",
    "    counter = counter + 1\n",
    "}"
   ]
  }
 ],
 "metadata": {
  "kernelspec": {
   "display_name": "R 4.1",
   "language": "R",
   "name": "ir41"
  },
  "language_info": {
   "codemirror_mode": "r",
   "file_extension": ".r",
   "mimetype": "text/x-r-source",
   "name": "R",
   "pygments_lexer": "r",
   "version": "4.1.0"
  }
 },
 "nbformat": 4,
 "nbformat_minor": 2
}
